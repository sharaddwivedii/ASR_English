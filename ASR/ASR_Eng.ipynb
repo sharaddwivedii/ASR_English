{
 "cells": [
  {
   "cell_type": "markdown",
   "metadata": {},
   "source": []
  },
  {
   "cell_type": "code",
   "execution_count": null,
   "metadata": {},
   "outputs": [],
   "source": [
    "import datasets  # to import Mozilla Common Voice and Librispeech dataset\n",
    "import transformers #Huggingface Wav2Vec2 model loading\n",
    "import torchaudio #Audioprocessing\n",
    "import soundfile as sf #Audioprocessing 2.0[Backup]\n",
    "import numpy as np\n",
    "import jiwer\n",
    "import librosa\n"
   ]
  },
  {
   "cell_type": "markdown",
   "metadata": {},
   "source": [
    "Estabilishing Base Directory"
   ]
  },
  {
   "cell_type": "code",
   "execution_count": null,
   "metadata": {},
   "outputs": [],
   "source": [
    "base_dir= \"C:\\\\Users\\\\skdwi\\\\OneDrive\\\\Desktop\\\\ASR\""
   ]
  },
  {
   "cell_type": "markdown",
   "metadata": {},
   "source": [
    "<p>ASR models transcribe speech to text, which means that we both need a feature extractor that processes the speech signal to the model's input format, e.g. a feature vector, and a tokenizer that processes the model's output format to text.</p>\n",
    "\n",
    "<p>In 🤗 Transformers, the Wav2Vec2 model is thus accompanied by both a tokenizer, called Wav2Vec2CTCTokenizer, and a feature extractor, called Wav2Vec2FeatureExtractor.</p>\n",
    "\n"
   ]
  },
  {
   "cell_type": "markdown",
   "metadata": {},
   "source": [
    "1. Importing Dataset:- Using Timit in this case because it is small, ideally one must use Librispeech although training will take alot of time"
   ]
  },
  {
   "cell_type": "code",
   "execution_count": null,
   "metadata": {},
   "outputs": [],
   "source": [
    "from datasets import load_dataset, load_metric\n",
    "libri_train = load_dataset(\"mozilla-foundation/common_voice_11_0\", \"en\", split=\"train+validation\",trust_remote_code=True)\n",
    "libri_test = load_dataset(\"mozilla-foundation/common_voice_11_0\", \"en\", split=\"test\",trust_remote_code=True)\n",
    "#removing unneccesary outputs\n",
    "libri_train = libri_train.remove_columns([\"accent\", \"age\", \"client_id\", \"down_votes\", \"gender\", \"locale\", \"segment\", \"up_votes\"])\n",
    "libri_test = libri_test.remove_columns([\"accent\", \"age\", \"client_id\", \"down_votes\", \"gender\", \"locale\", \"segment\", \"up_votes\"])\n",
    "#Also must remove special Characters-- It is important because special Characters have no sound, so must be stripped\n",
    "# Apply the function to the dataset\n",
    "import re\n",
    "chars_to_ignore_regex = '[\\,\\?\\.\\!\\-\\;\\:\\\"]'\n",
    "\n",
    "def remove_special_characters(batch):\n",
    "    batch[\"sentence\"] = re.sub(chars_to_ignore_regex, '', batch[\"sentence\"]).lower()\n",
    "    return batch\n",
    "\n",
    "libri_test= libri_test.map(remove_special_characters)\n",
    "libri_train= libri_train.map(remove_special_characters)\n",
    "\n",
    "print(libri_test)\n"
   ]
  },
  {
   "cell_type": "markdown",
   "metadata": {},
   "source": [
    "<h3>Creating a Vocab.json</h3>\n",
    "<p>Similar to identifying classes in Neural Networks, we also need to create a vocabulary of the english language here to map out the speech to text clearly. Helps in encoding decoding</p>"
   ]
  },
  {
   "cell_type": "code",
   "execution_count": null,
   "metadata": {},
   "outputs": [],
   "source": [
    "def extract_all_chars(batch):\n",
    "    all_text = \" \".join(batch[\"sentence\"])#Combines all the data in all the trascription\n",
    "    vocab = list(set(all_text))#Sets don't allow duplicate, so only allows unique\n",
    "    return {\"vocab\": [vocab], \"all_text\": [all_text]}\n",
    "vocab_test = libri_test.map(extract_all_chars, batched=True, batch_size=-1, keep_in_memory=True, remove_columns=libri_test.column_names)\n",
    "vocab_train = libri_train.map(extract_all_chars, batched=True, batch_size=-1, keep_in_memory=True, remove_columns=libri_test.column_names)\n",
    "\n",
    "combined_vocab = list(set(vocab_train[\"vocab\"][0]) | set(vocab_test[\"vocab\"][0]))\n",
    "vocab_dict = {char: idx for idx, char in enumerate(sorted(combined_vocab))}#Create a dictionary\n",
    "\n",
    "import json\n",
    "with open('vocab.json', 'w') as f:\n",
    "    json.dump(vocab_dict, f, indent=0)\n",
    "\n",
    "vocab_dict[\"|\"] = vocab_dict[\" \"]\n",
    "del vocab_dict[\" \"]\n",
    "print(libri_test)\n"
   ]
  },
  {
   "cell_type": "markdown",
   "metadata": {},
   "source": [
    "<p>Finally, we also add a padding token that corresponds to CTC's \"blank token\". The \"blank token\" is a core component of the CTC algorithm.</p>\n",
    "\n"
   ]
  },
  {
   "cell_type": "code",
   "execution_count": null,
   "metadata": {},
   "outputs": [],
   "source": [
    "vocab_dict[\"[UNK]\"] = len(vocab_dict)\n",
    "vocab_dict[\"[PAD]\"] = len(vocab_dict)\n",
    "\n",
    "print(len(vocab_dict))\n",
    "print(libri_test)\n",
    "\n"
   ]
  },
  {
   "cell_type": "markdown",
   "metadata": {},
   "source": [
    "<p>We use the json file to instantiate an object of the Wav2Vec2CTCTokenizer class.</p>\n",
    "<p>Encoding is Basically changing the text to vocab id according to vocab.json</p>\n",
    "<p>attention_mask: A sequence of 1s and 0s indicating which tokens should be attended to by the model. In this case, all values are 1 because there is no padding, meaning all tokens are valid and should be processed by the model.\n",
    "</p>\n",
    "\n",
    "<p>To make the usage of Wav2Vec2 as user-friendly as possible, the feature extractor and tokenizer are wrapped into a single Wav2Vec2Processor class so that one only needs a model and processor object.</p>"
   ]
  },
  {
   "cell_type": "code",
   "execution_count": null,
   "metadata": {},
   "outputs": [],
   "source": [
    "from transformers import Wav2Vec2CTCTokenizer, Wav2Vec2FeatureExtractor, Wav2Vec2Processor,TrainingArguments, Trainer,Wav2Vec2ForCTC\n",
    "tokenizer = Wav2Vec2CTCTokenizer(\"./vocab.json\", unk_token=\"[UNK]\", pad_token=\"[PAD]\", word_delimiter_token=\"|\")\n",
    "\n",
    "feature_extractor = Wav2Vec2FeatureExtractor(feature_size=1, sampling_rate=16000, padding_value=0.0, do_normalize=True, requires_grad=False)\n",
    "#the feature size of 1 indicates that the model processes a one-dimensional raw audio waveform--Amplitude\n",
    "\n",
    "processor = Wav2Vec2Processor(feature_extractor=feature_extractor, tokenizer=tokenizer)\n",
    "print(libri_test)\n",
    "\n",
    "libri_train[0]"
   ]
  },
  {
   "cell_type": "code",
   "execution_count": null,
   "metadata": {},
   "outputs": [],
   "source": [
    "import torchaudio\n",
    "\n",
    "def speech_file_to_array_fn(batch):\n",
    "    speech_array, sampling_rate = torchaudio.load(batch[\"path\"])\n",
    "    batch[\"speech\"] = speech_array[0].numpy()\n",
    "    batch[\"sampling_rate\"] = sampling_rate\n",
    "    batch[\"target_text\"] = batch[\"sentence\"]\n",
    "    return batch\n",
    "\n",
    "libri_train = libri_train.map(speech_file_to_array_fn)\n",
    "libri_test = libri_test.map(speech_file_to_array_fn)"
   ]
  },
  {
   "cell_type": "markdown",
   "metadata": {},
   "source": []
  },
  {
   "cell_type": "code",
   "execution_count": null,
   "metadata": {},
   "outputs": [],
   "source": [
    "print(libri_test)\n",
    "\n",
    "def prepare_dataset(batch):\n",
    "    try:\n",
    "        # Access the pre-loaded audio data and reduce the sampling rate\n",
    "        batch[\"speech\"] = librosa.resample(np.asarray(batch[\"speech\"]), 48_000, 16_000)\n",
    "        batch[\"sampling_rate\"] = 16_000\n",
    "        \n",
    "        speech_array = batch[\"audio\"][\"array\"]\n",
    "        sampling_rate = batch[\"audio\"][\"sampling_rate\"]\n",
    "        \n",
    "        # Process the audio data\n",
    "        batch[\"input_values\"] = processor(speech_array.squeeze().numpy(), padding=\"longest\", sampling_rate=sampling_rate).input_values[0]\n",
    "        batch[\"labels\"] = processor(text=batch[\"sentence\"], return_tensors=\"pt\").input_ids[0]\n",
    "    except Exception as e:\n",
    "        print(f\"Error processing batch: {e}\")\n",
    "    \n",
    "    return batch\n",
    "\n",
    "libri_test = libri_test.map(prepare_dataset, batch_size=8, num_proc=4, batched=True)\n",
    "libri_test = libri_train.map(prepare_dataset, batch_size=8, num_proc=4, batched=True)\n",
    "\n",
    "print(libri_test)\n"
   ]
  },
  {
   "cell_type": "markdown",
   "metadata": {},
   "source": [
    "<h3>Data Collator</h3>"
   ]
  },
  {
   "cell_type": "code",
   "execution_count": null,
   "metadata": {},
   "outputs": [],
   "source": [
    "import torch\n",
    "\n",
    "from dataclasses import dataclass, field\n",
    "from typing import Any, Dict, List, Optional, Union\n",
    "\n",
    "@dataclass\n",
    "class DataCollatorCTCWithPadding:\n",
    "    \"\"\"\n",
    "    Data collator that will dynamically pad the inputs received.\n",
    "    Args:\n",
    "        processor (:class:`~transformers.Wav2Vec2Processor`)\n",
    "            The processor used for proccessing the data.\n",
    "        padding (:obj:`bool`, :obj:`str` or :class:`~transformers.tokenization_utils_base.PaddingStrategy`, `optional`, defaults to :obj:`True`):\n",
    "            Select a strategy to pad the returned sequences (according to the model's padding side and padding index)\n",
    "            among:\n",
    "            * :obj:`True` or :obj:`'longest'`: Pad to the longest sequence in the batch (or no padding if only a single\n",
    "              sequence if provided).\n",
    "            * :obj:`'max_length'`: Pad to a maximum length specified with the argument :obj:`max_length` or to the\n",
    "              maximum acceptable input length for the model if that argument is not provided.\n",
    "            * :obj:`False` or :obj:`'do_not_pad'` (default): No padding (i.e., can output a batch with sequences of\n",
    "              different lengths).\n",
    "        max_length (:obj:`int`, `optional`):\n",
    "            Maximum length of the ``input_values`` of the returned list and optionally padding length (see above).\n",
    "        max_length_labels (:obj:`int`, `optional`):\n",
    "            Maximum length of the ``labels`` returned list and optionally padding length (see above).\n",
    "        pad_to_multiple_of (:obj:`int`, `optional`):\n",
    "            If set will pad the sequence to a multiple of the provided value.\n",
    "            This is especially useful to enable the use of Tensor Cores on NVIDIA hardware with compute capability >=\n",
    "            7.5 (Volta).\n",
    "    \"\"\"\n",
    "\n",
    "    processor: Wav2Vec2Processor\n",
    "    padding: Union[bool, str] = True\n",
    "    max_length: Optional[int] = None\n",
    "    max_length_labels: Optional[int] = None\n",
    "    pad_to_multiple_of: Optional[int] = None\n",
    "    pad_to_multiple_of_labels: Optional[int] = None\n",
    "\n",
    "    def __call__(self, features: List[Dict[str, Union[List[int], torch.Tensor]]]) -> Dict[str, torch.Tensor]:\n",
    "        # split inputs and labels since they have to be of different lengths and need\n",
    "        # different padding methods\n",
    "        input_features = [{\"input_values\": feature[\"input_values\"]} for feature in features]\n",
    "        label_features = [{\"input_ids\": feature[\"labels\"]} for feature in features]\n",
    "\n",
    "        batch = self.processor.pad(\n",
    "            input_features,\n",
    "            padding=self.padding,\n",
    "            max_length=self.max_length,\n",
    "            pad_to_multiple_of=self.pad_to_multiple_of,\n",
    "            return_tensors=\"pt\",\n",
    "        )\n",
    "        with self.processor.as_target_processor():\n",
    "            labels_batch = self.processor.pad(\n",
    "                label_features,\n",
    "                padding=self.padding,\n",
    "                max_length=self.max_length_labels,\n",
    "                pad_to_multiple_of=self.pad_to_multiple_of_labels,\n",
    "                return_tensors=\"pt\",\n",
    "            )\n",
    "\n",
    "        # replace padding with -100 to ignore loss correctly\n",
    "        labels = labels_batch[\"input_ids\"].masked_fill(labels_batch.attention_mask.ne(1), -100)\n",
    "\n",
    "        batch[\"labels\"] = labels\n",
    "\n",
    "        return batch\n"
   ]
  },
  {
   "cell_type": "code",
   "execution_count": null,
   "metadata": {},
   "outputs": [],
   "source": [
    "def compute_metrics(pred):\n",
    "    pred_logits = pred.predictions\n",
    "    pred_ids = np.argmax(pred_logits, axis=-1)\n",
    "\n",
    "    pred.label_ids[pred.label_ids == -100] = processor.tokenizer.pad_token_id\n",
    "\n",
    "    pred_str = processor.batch_decode(pred_ids)\n",
    "    # we do not want to group tokens when computing the metrics\n",
    "    label_str = processor.batch_decode(pred.label_ids, group_tokens=False)\n",
    "    wer_metric = load_metric(\"wer\")\n",
    "    wer = wer_metric.compute(predictions=pred_str, references=label_str)\n",
    "\n",
    "    return {\"wer\": wer}\n"
   ]
  },
  {
   "cell_type": "markdown",
   "metadata": {},
   "source": [
    "<h3>Training Arguments and Training</h3>"
   ]
  },
  {
   "cell_type": "code",
   "execution_count": null,
   "metadata": {},
   "outputs": [],
   "source": [
    "model = Wav2Vec2ForCTC.from_pretrained(\n",
    "    \"facebook/wav2vec2-base\", \n",
    "    ctc_loss_reduction=\"mean\", \n",
    "    pad_token_id=processor.tokenizer.pad_token_id,\n",
    ")\n",
    "\n",
    "data_collator = DataCollatorCTCWithPadding(processor=processor, padding=True)\n",
    "\n",
    "training_args = TrainingArguments(\n",
    "  output_dir=\"./wav2vec2-finetuned\",  # Directory to save the model checkpoints and logs\n",
    "  per_device_train_batch_size=32,     # Batch size per device during training\n",
    "  eval_strategy=\"steps\",              # Evaluation strategy to use (in this case, evaluate every few steps)\n",
    "  num_train_epochs=3,                 # Number of epochs to train the model\n",
    "  save_steps=500,                     # Save checkpoint every 500 steps\n",
    "  eval_steps=500,                     # Evaluate the model every 500 steps\n",
    "  logging_steps=100,                  # Log training metrics every 100 steps\n",
    "  learning_rate=1e-4,                 # Learning rate for the optimizer\n",
    "  save_total_limit=2,                 # Limit the total amount of checkpoints to save (older checkpoints will be deleted)\n",
    "  remove_unused_columns=False,        # Do not remove unused columns\n",
    "  group_by_length=True,\n",
    "  fp16=True,\n",
    "  gradient_checkpointing=True\n",
    ")\n",
    "\n",
    "print(libri_test.column_names)\n",
    "print(libri_test[0][\"sentence\"])  \n",
    "\n",
    "trainer = Trainer(\n",
    "    model=model,\n",
    "    data_collator=data_collator,\n",
    "    args=training_args,\n",
    "    compute_metrics=compute_metrics,\n",
    "    train_dataset=libri_train,\n",
    "    eval_dataset=libri_test,\n",
    "    tokenizer=processor.feature_extractor,\n",
    ")\n",
    "\n",
    "\n",
    "trainer.train()\n"
   ]
  },
  {
   "cell_type": "markdown",
   "metadata": {},
   "source": []
  }
 ],
 "metadata": {
  "kernelspec": {
   "display_name": "Python 3",
   "language": "python",
   "name": "python3"
  },
  "language_info": {
   "codemirror_mode": {
    "name": "ipython",
    "version": 3
   },
   "file_extension": ".py",
   "mimetype": "text/x-python",
   "name": "python",
   "nbconvert_exporter": "python",
   "pygments_lexer": "ipython3",
   "version": "3.11.5"
  }
 },
 "nbformat": 4,
 "nbformat_minor": 2
}
